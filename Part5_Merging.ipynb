{
 "cells": [
  {
   "cell_type": "code",
   "execution_count": 1,
   "metadata": {},
   "outputs": [],
   "source": [
    "import pandas as pd\n",
    "import numpy as np"
   ]
  },
  {
   "cell_type": "code",
   "execution_count": 5,
   "metadata": {},
   "outputs": [
    {
     "data": {
      "text/plain": [
       "(  key  value1\n",
       " 0   A       1\n",
       " 1   B       2\n",
       " 2   C       3\n",
       " 3   D       4\n",
       " 4   E       5\n",
       " 5   F       6,\n",
       "   key  value2\n",
       " 0   C       8\n",
       " 1   D       9\n",
       " 2   E      10\n",
       " 3   F      11\n",
       " 4   G      12\n",
       " 5   H      13)"
      ]
     },
     "execution_count": 5,
     "metadata": {},
     "output_type": "execute_result"
    }
   ],
   "source": [
    "# Create 2 dataframe\n",
    "df1 = pd.DataFrame({\n",
    "    'key':['A','B','C','D','E','F'],\n",
    "    'value1':[1,2,3,4,5,6]\n",
    "})\n",
    "df2 = pd.DataFrame({\n",
    "    'key':['C','D','E','F','G','H'],\n",
    "    'value2':[8,9,10,11,12,13]\n",
    "})\n",
    "df1,df2"
   ]
  },
  {
   "cell_type": "code",
   "execution_count": null,
   "metadata": {},
   "outputs": [],
   "source": []
  }
 ],
 "metadata": {
  "kernelspec": {
   "display_name": "base",
   "language": "python",
   "name": "python3"
  },
  "language_info": {
   "codemirror_mode": {
    "name": "ipython",
    "version": 3
   },
   "file_extension": ".py",
   "mimetype": "text/x-python",
   "name": "python",
   "nbconvert_exporter": "python",
   "pygments_lexer": "ipython3",
   "version": "3.11.5"
  },
  "orig_nbformat": 4
 },
 "nbformat": 4,
 "nbformat_minor": 2
}
